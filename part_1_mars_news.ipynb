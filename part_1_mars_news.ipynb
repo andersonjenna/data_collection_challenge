{
 "cells": [
  {
   "attachments": {},
   "cell_type": "markdown",
   "metadata": {},
   "source": [
    "# Module 11 Challenge\n",
    "## Deliverable 1: Scrape Titles and Preview Text from Mars News"
   ]
  },
  {
   "cell_type": "code",
   "execution_count": 1,
   "metadata": {},
   "outputs": [],
   "source": [
    "# Import Splinter and BeautifulSoup\n",
    "from splinter import Browser\n",
    "from bs4 import BeautifulSoup\n",
    "import json"
   ]
  },
  {
   "cell_type": "code",
   "execution_count": 2,
   "metadata": {
    "scrolled": true
   },
   "outputs": [],
   "source": [
    "browser = Browser('chrome')"
   ]
  },
  {
   "attachments": {},
   "cell_type": "markdown",
   "metadata": {},
   "source": [
    "### Step 1: Visit the Website\n",
    "\n",
    "1. Use automated browsing to visit the [Mars news site](https://static.bc-edx.com/data/web/mars_news/index.html). Inspect the page to identify which elements to scrape.\n",
    "\n",
    "      > **Hint** To identify which elements to scrape, you might want to inspect the page by using Chrome DevTools."
   ]
  },
  {
   "cell_type": "code",
   "execution_count": 4,
   "metadata": {},
   "outputs": [],
   "source": [
    "# Visit the Mars news site\n",
    "url = 'https://static.bc-edx.com/data/web/mars_news/index.html'\n",
    "browser.visit(url)"
   ]
  },
  {
   "attachments": {},
   "cell_type": "markdown",
   "metadata": {},
   "source": [
    "### Step 2: Scrape the Website\n",
    "\n",
    "Create a Beautiful Soup object and use it to extract text elements from the website."
   ]
  },
  {
   "cell_type": "code",
   "execution_count": 5,
   "metadata": {},
   "outputs": [],
   "source": [
    "# Create a Beautiful Soup object\n",
    "html = browser.html\n",
    "soup = BeautifulSoup(html, 'html.parser')"
   ]
  },
  {
   "cell_type": "code",
   "execution_count": 6,
   "metadata": {},
   "outputs": [],
   "source": [
    "# Extract all the text elements\n",
    "articles = soup.find_all('div', class_='slide')"
   ]
  },
  {
   "attachments": {},
   "cell_type": "markdown",
   "metadata": {},
   "source": [
    "### Step 3: Store the Results\n",
    "\n",
    "Extract the titles and preview text of the news articles that you scraped. Store the scraping results in Python data structures as follows:\n",
    "\n",
    "* Store each title-and-preview pair in a Python dictionary. And, give each dictionary two keys: `title` and `preview`. An example is the following:\n",
    "\n",
    "  ```python\n",
    "  {'title': \"NASA's MAVEN Observes Martian Light Show Caused by Major Solar Storm\", \n",
    "   'preview': \"For the first time in its eight years orbiting Mars, NASA’s MAVEN mission witnessed two different types of ultraviolet aurorae simultaneously, the result of solar storms that began on Aug. 27.\"\n",
    "  }\n",
    "  ```\n",
    "\n",
    "* Store all the dictionaries in a Python list.\n",
    "\n",
    "* Print the list in your notebook."
   ]
  },
  {
   "cell_type": "code",
   "execution_count": 7,
   "metadata": {},
   "outputs": [],
   "source": [
    "# Create an empty list to store the dictionaries\n",
    "mars_news = []"
   ]
  },
  {
   "cell_type": "code",
   "execution_count": 8,
   "metadata": {},
   "outputs": [
    {
     "name": "stdout",
     "output_type": "stream",
     "text": [
      "<div class=\"carousel slide\" data-ride=\"carousel\" id=\"carouselExampleIndicators2\">\n",
      "<div class=\"carousel-inner\">\n",
      "<div class=\"carousel-item active\">\n",
      "<div class=\"row\">\n",
      "<div class=\"col-md-4 mb-3\">\n",
      "<div class=\"card\">\n",
      "<img alt=\"100%x280\" class=\"img-fluid\" src=\"images/9232_1-PIA01551-sojourner-and-ramp-already-in-PJ-320x240.jpeg\"/>\n",
      "<div class=\"card-body\">\n",
      "<p class=\"card-text\">NASA Marks 25 Years Since Pathfinder Touched Down on Mars</p>\n",
      "</div>\n",
      "</div>\n",
      "</div>\n",
      "<div class=\"col-md-4 mb-3\">\n",
      "<div class=\"card\">\n",
      "<img alt=\"100%x280\" class=\"img-fluid\" src=\"images/9172_PIA25179-320x240.jpeg\"/>\n",
      "<div class=\"card-body\">\n",
      "<p class=\"card-text\">NASA's Perseverance Rover Captures Video of Solar Eclipse on Mars</p>\n",
      "</div>\n",
      "</div>\n",
      "</div>\n",
      "<div class=\"col-md-4 mb-3\">\n",
      "<div class=\"card\">\n",
      "<img alt=\"100%x280\" class=\"img-fluid\" src=\"images/9167_maven-in-orbit-320x240.jpeg\"/>\n",
      "<div class=\"card-body\">\n",
      "<p class=\"card-text\">NASA, UAE Mars Missions Agree to Share Science Data</p>\n",
      "</div>\n",
      "</div>\n",
      "</div>\n",
      "</div>\n",
      "</div>\n",
      "</div>\n",
      "</div>\n",
      "Scraped data has been saved to 'mars_news.json'.\n"
     ]
    }
   ],
   "source": [
    "# Loop through the text elements\n",
    "# Extract the title and preview text from the elements\n",
    "# Store each title and preview pair in a dictionary\n",
    "# Add the dictionary to the list\n",
    "html = '''\n",
    "<div class=\"slide\">\n",
    "  <div class=\"content_title\"></div>\n",
    "  <div class=\"article_teaser_body\"></div>\n",
    "</div>\n",
    "'''\n",
    "\n",
    "for article in articles:\n",
    "    print(article)\n",
    "    title = article.find('h2')\n",
    "    if title:\n",
    "        title = title.get_text(strip=True)\n",
    "    else:\n",
    "        title = \"No title available\"\n",
    "     \n",
    "    preview = article.find('p')\n",
    "    if preview:\n",
    "        preview = preview.get_text(strip=True)\n",
    "    else:\n",
    "        preview = \"No preview available\"\n",
    "            \n",
    "    news_dict = {'title': title, 'preview': preview}\n",
    "\n",
    "    mars_news.append(news_dict)\n",
    "\n",
    "with open('mars_news.json', 'w') as file:\n",
    "    json.dump(mars_news, file, indent=4)\n",
    "\n",
    "print(\"Scraped data has been saved to 'mars_news.json'.\")"
   ]
  },
  {
   "cell_type": "code",
   "execution_count": 9,
   "metadata": {
    "scrolled": true
   },
   "outputs": [
    {
     "name": "stdout",
     "output_type": "stream",
     "text": [
      "[{'title': 'No title available', 'preview': 'NASA Marks 25 Years Since Pathfinder Touched Down on Mars'}]\n"
     ]
    }
   ],
   "source": [
    "# Print the list to confirm success\n",
    "print(mars_news)"
   ]
  },
  {
   "cell_type": "code",
   "execution_count": 10,
   "metadata": {},
   "outputs": [],
   "source": [
    "browser.quit()"
   ]
  },
  {
   "cell_type": "code",
   "execution_count": null,
   "metadata": {},
   "outputs": [],
   "source": []
  }
 ],
 "metadata": {
  "kernelspec": {
   "display_name": "Python 3 (ipykernel)",
   "language": "python",
   "name": "python3"
  },
  "language_info": {
   "codemirror_mode": {
    "name": "ipython",
    "version": 3
   },
   "file_extension": ".py",
   "mimetype": "text/x-python",
   "name": "python",
   "nbconvert_exporter": "python",
   "pygments_lexer": "ipython3",
   "version": "3.12.4"
  },
  "vscode": {
   "interpreter": {
    "hash": "31f2aee4e71d21fbe5cf8b01ff0e069b9275f58929596ceb00d14d90e3e16cd6"
   }
  }
 },
 "nbformat": 4,
 "nbformat_minor": 4
}
